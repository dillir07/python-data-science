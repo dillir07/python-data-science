{
 "cells": [
  {
   "cell_type": "markdown",
   "metadata": {},
   "source": [
    "# Balanced Parentheses Check \n",
    "\n",
    "## Problem Statement\n",
    "\n",
    "Given a string of opening and closing parentheses, check whether it’s balanced. We have 3 types of parentheses: round brackets: (), square brackets: [], and curly brackets: {}. Assume that the string doesn’t contain any other character than these, no spaces words or numbers. As a reminder, balanced parentheses require every opening parenthesis to be closed in the reverse order opened. For example ‘([])’ is balanced but ‘([)]’ is not. \n",
    "\n",
    "\n",
    "You can assume the input string has no spaces.\n",
    "\n",
    "## Solution\n",
    "\n",
    "Fill out your solution below:"
   ]
  },
  {
   "cell_type": "code",
   "execution_count": 41,
   "metadata": {
    "collapsed": true
   },
   "outputs": [],
   "source": [
    "class Stack(object):\n",
    "    \"\"\"\n",
    "    Represents a Stack DS\n",
    "    \"\"\"\n",
    "    \n",
    "    def __init__(self):\n",
    "        \"\"\"\n",
    "        Using Array to represent Stack here for simplicity.\n",
    "        \"\"\"\n",
    "        self._items = []\n",
    "        self._size = 0\n",
    "    \n",
    "    def __len__(self):\n",
    "        \"\"\"\n",
    "        Returns the length of the Stack.\n",
    "        \"\"\"\n",
    "        return self._size\n",
    "    \n",
    "    def is_empty(self):\n",
    "        \"\"\"\n",
    "        Return boolean value based on if the stack is empty.\n",
    "        \"\"\"\n",
    "        return self._size == 0\n",
    "    \n",
    "    def push(self, item):\n",
    "        \"\"\"\n",
    "        Pushes an item on to the Stack.\n",
    "        \"\"\"\n",
    "        self._items.append(item)\n",
    "        self._size += 1\n",
    "        return item\n",
    "    \n",
    "    def pop(self):\n",
    "        \"\"\"\n",
    "        Pops an item from Queue, using built-in pop method of Lists.\n",
    "        \"\"\"\n",
    "        if self._size == 0:\n",
    "            raise IndexError(\"Stack is Empty\")\n",
    "        self._size -= 1\n",
    "        return self._items.pop()\n",
    "    \n",
    "    def peek(self):\n",
    "        \"\"\"\n",
    "        Returns the top item without changing the Stack.\n",
    "        Using list slicing.\n",
    "        \"\"\"\n",
    "        return self._items[-1]\n",
    "    \n",
    "    def __repr__(self):\n",
    "        \"\"\"\n",
    "        Returns a repr\n",
    "        \"\"\"\n",
    "        return str(self._items)\n",
    "\n",
    "def balance_check(s):\n",
    "    \n",
    "    \"\"\"\n",
    "    \"\"\"\n",
    "    \n",
    "    s = s.strip()\n",
    "    \n",
    "    stack = Stack()\n",
    "    \n",
    "    opened_braces = ['(', '[', '{']\n",
    "    closed_braces = ['}', ']', ')']\n",
    "    pairs = { ')': '(', ']': '[', '}': '{' }\n",
    "    \n",
    "    for brace in s:\n",
    "        \n",
    "        if brace in opened_braces:\n",
    "\n",
    "            # Add the open brace to the stack\n",
    "            stack.push(brace)\n",
    "        elif brace in closed_braces:\n",
    "    \n",
    "            if not stack.is_empty() and pairs.get(brace, 'error') == stack.peek():\n",
    "                # found matching pair, so remove it from stack.\n",
    "                stack.pop()\n",
    "            else:\n",
    "                # this means stack is empty\n",
    "                # no open brace for current closed brace\n",
    "                return False\n",
    "        else:\n",
    "            # this means we got a closed brace not having a pair from stack.\n",
    "            return False\n",
    "    \n",
    "    return stack.is_empty()"
   ]
  },
  {
   "cell_type": "code",
   "execution_count": 42,
   "metadata": {
    "collapsed": false
   },
   "outputs": [
    {
     "data": {
      "text/plain": [
       "True"
      ]
     },
     "execution_count": 42,
     "metadata": {},
     "output_type": "execute_result"
    }
   ],
   "source": [
    "balance_check('[]')"
   ]
  },
  {
   "cell_type": "code",
   "execution_count": 43,
   "metadata": {
    "collapsed": false
   },
   "outputs": [
    {
     "data": {
      "text/plain": [
       "True"
      ]
     },
     "execution_count": 43,
     "metadata": {},
     "output_type": "execute_result"
    }
   ],
   "source": [
    "balance_check('[](){([[[]]])}')"
   ]
  },
  {
   "cell_type": "code",
   "execution_count": 44,
   "metadata": {
    "collapsed": false
   },
   "outputs": [
    {
     "data": {
      "text/plain": [
       "False"
      ]
     },
     "execution_count": 44,
     "metadata": {},
     "output_type": "execute_result"
    }
   ],
   "source": [
    "balance_check('()(){]}')"
   ]
  },
  {
   "cell_type": "markdown",
   "metadata": {},
   "source": [
    "# Test Your Solution"
   ]
  },
  {
   "cell_type": "code",
   "execution_count": 45,
   "metadata": {
    "collapsed": false
   },
   "outputs": [
    {
     "name": "stdout",
     "output_type": "stream",
     "text": [
      "ALL TEST CASES PASSED\n"
     ]
    }
   ],
   "source": [
    "\"\"\"\n",
    "RUN THIS CELL TO TEST YOUR SOLUTION\n",
    "\"\"\"\n",
    "from nose.tools import assert_equal\n",
    "\n",
    "class TestBalanceCheck(object):\n",
    "    \n",
    "    def test(self,sol):\n",
    "        assert_equal(sol('[](){([[[]]])}('),False)\n",
    "        assert_equal(sol('[{{{(())}}}]((()))'),True)\n",
    "        assert_equal(sol('[[[]])]'),False)\n",
    "        print('ALL TEST CASES PASSED')\n",
    "        \n",
    "# Run Tests\n",
    "\n",
    "t = TestBalanceCheck()\n",
    "t.test(balance_check)"
   ]
  },
  {
   "cell_type": "markdown",
   "metadata": {},
   "source": [
    "## Good Job!"
   ]
  }
 ],
 "metadata": {
  "kernelspec": {
   "display_name": "Python 3",
   "language": "python",
   "name": "python3"
  },
  "language_info": {
   "codemirror_mode": {
    "name": "ipython",
    "version": 3
   },
   "file_extension": ".py",
   "mimetype": "text/x-python",
   "name": "python",
   "nbconvert_exporter": "python",
   "pygments_lexer": "ipython3",
   "version": "3.7.1"
  }
 },
 "nbformat": 4,
 "nbformat_minor": 2
}
