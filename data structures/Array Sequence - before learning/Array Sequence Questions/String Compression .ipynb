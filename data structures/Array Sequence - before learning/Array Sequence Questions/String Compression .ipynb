{
 "cells": [
  {
   "cell_type": "markdown",
   "metadata": {},
   "source": [
    "# String Compression\n",
    "\n",
    "## Problem\n",
    "\n",
    "Given a string in the form 'AAAABBBBCCCCCDDEEEE' compress it to become 'A4B4C5D2E4'. For this problem, you can falsely \"compress\" strings of single or double letters. For instance, it is okay for 'AAB' to return 'A2B1' even though this technically takes more space. \n",
    "\n",
    "The function should also be case sensitive, so that a string 'AAAaaa' returns 'A3a3'."
   ]
  },
  {
   "cell_type": "markdown",
   "metadata": {},
   "source": [
    "## Solution\n",
    "Fill out your solution below:"
   ]
  },
  {
   "cell_type": "code",
   "execution_count": 20,
   "metadata": {
    "collapsed": true
   },
   "outputs": [],
   "source": [
    "def compress(s):\n",
    "    \"\"\"\n",
    "    Compresses the given string by counting the occurance of each char.\n",
    "    \"\"\"\n",
    "    \n",
    "    s = s.strip()\n",
    "    \n",
    "    if s == \"\" or len(s) == 1:\n",
    "        return s\n",
    "    \n",
    "    compressed = \"\"\n",
    "\n",
    "    char_counter = 0\n",
    "    matched_char_counter = 0\n",
    "    encode_single_char = True\n",
    "    current_char = \"\"\n",
    "    next_char = \"\"\n",
    "\n",
    "    while char_counter < len(s) - 1:\n",
    "        current_char = s[char_counter]\n",
    "        next_char = s[char_counter + 1]\n",
    "\n",
    "        if current_char == next_char:\n",
    "            matched_char_counter += 1\n",
    "            char_counter += 1  # go to next char\n",
    "        else:  # encountered a differnet char, append current charcount\n",
    "            if matched_char_counter == 0 and not encode_single_char:\n",
    "                encode = current_char\n",
    "            else:\n",
    "                encode = current_char + str(matched_char_counter + 1)\n",
    "            compressed += encode\n",
    "            char_counter += 1\n",
    "            matched_char_counter = 0  # reset matched char count\n",
    "\n",
    "    if matched_char_counter == 0 and not encode_single_char:\n",
    "        encode = current_char\n",
    "    else:\n",
    "        encode = current_char + str(matched_char_counter + 1)\n",
    "    compressed += encode\n",
    "\n",
    "    return compressed\n"
   ]
  },
  {
   "cell_type": "code",
   "execution_count": 21,
   "metadata": {
    "collapsed": false
   },
   "outputs": [
    {
     "data": {
      "text/plain": [
       "'A5B4C4'"
      ]
     },
     "execution_count": 21,
     "metadata": {},
     "output_type": "execute_result"
    }
   ],
   "source": [
    "compress('AAAAABBBBCCCC')"
   ]
  },
  {
   "cell_type": "markdown",
   "metadata": {},
   "source": [
    "# Test Your Solution"
   ]
  },
  {
   "cell_type": "code",
   "execution_count": 22,
   "metadata": {
    "collapsed": false
   },
   "outputs": [
    {
     "name": "stdout",
     "output_type": "stream",
     "text": [
      "ALL TEST CASES PASSED\n"
     ]
    }
   ],
   "source": [
    "\"\"\"\n",
    "RUN THIS CELL TO TEST YOUR SOLUTION\n",
    "\"\"\"\n",
    "from nose.tools import assert_equal\n",
    "\n",
    "class TestCompress(object):\n",
    "\n",
    "    def test(self, sol):\n",
    "        assert_equal(sol(''), '')\n",
    "        assert_equal(sol('AABBCC'), 'A2B2C2')\n",
    "        assert_equal(sol('AAABCCDDDDD'), 'A3B1C2D5')\n",
    "        print('ALL TEST CASES PASSED')\n",
    "\n",
    "# Run Tests\n",
    "t = TestCompress()\n",
    "t.test(compress)"
   ]
  },
  {
   "cell_type": "markdown",
   "metadata": {},
   "source": [
    "## Good Job!"
   ]
  },
  {
   "cell_type": "code",
   "execution_count": null,
   "metadata": {},
   "outputs": [],
   "source": []
  }
 ],
 "metadata": {
  "kernelspec": {
   "display_name": "Python 3",
   "language": "python",
   "name": "python3"
  },
  "language_info": {
   "codemirror_mode": {
    "name": "ipython",
    "version": 3
   },
   "file_extension": ".py",
   "mimetype": "text/x-python",
   "name": "python",
   "nbconvert_exporter": "python",
   "pygments_lexer": "ipython3",
   "version": "3.7.1"
  }
 },
 "nbformat": 4,
 "nbformat_minor": 2
}
