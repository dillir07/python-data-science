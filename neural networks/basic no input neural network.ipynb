{
 "metadata": {
  "language_info": {
   "codemirror_mode": {
    "name": "ipython",
    "version": 3
   },
   "file_extension": ".py",
   "mimetype": "text/x-python",
   "name": "python",
   "nbconvert_exporter": "python",
   "pygments_lexer": "ipython3",
   "version": "3.8.2-final"
  },
  "orig_nbformat": 2,
  "kernelspec": {
   "name": "python38264bitdsvenvd2441c9b661346da8a09e67d7f083f00",
   "display_name": "Python 3.8.2 64-bit ('ds': venv)"
  }
 },
 "nbformat": 4,
 "nbformat_minor": 2,
 "cells": [
  {
   "cell_type": "markdown",
   "metadata": {},
   "source": [
    "# Basic introduction to Nueral network\n",
    "\n",
    "Here we are using an extremely simple equation without any input params. <br>\n",
    "nurel network $= (b-4)$\n",
    "\n",
    "b is the baise <br>\n",
    "4 is the target <br>\n",
    "error/cost function $ = (prediction - target)^{2}$"
   ]
  },
  {
   "cell_type": "code",
   "execution_count": null,
   "metadata": {},
   "outputs": [],
   "source": [
    "# defining cost function here\n",
    "def cost(b:int):\n",
    "    \"\"\"\n",
    "    this is cost/error function which returns the error value\n",
    "    the lower the error value the better our model is.\n",
    "\n",
    "    (prediction - target)**2\n",
    "    which is (b-4)**2\n",
    "    \"\"\"\n",
    "    return (b-4) ** 2"
   ]
  },
  {
   "cell_type": "code",
   "execution_count": null,
   "metadata": {},
   "outputs": [],
   "source": [
    "cost(0),cost(4)"
   ]
  },
  {
   "cell_type": "markdown",
   "metadata": {},
   "source": [
    "### Slope\n",
    "the slope or gradient of a line is a number that describes both the direction and the steepness of the line.\n",
    "\n",
    "The lower the slope is the near to the point we need to be.\n",
    "\n",
    "The formula for slope $ \\large m = \\frac{rise}{run} = \\frac{y_{2}-y_{1}}{x_{2}-x_{1}} $"
   ]
  },
  {
   "cell_type": "code",
   "execution_count": null,
   "metadata": {},
   "outputs": [],
   "source": [
    "def num_slope(b:int):\n",
    "    \"\"\"\n",
    "    slope is line connecting the two points in a graph\n",
    "    slope formula is (y2-y1)/(x2-x1)\n",
    "    return numeric slope using the formula = (y2-y1)/(x2-x1)\n",
    "    \"\"\"\n",
    "    h = 0.0001\n",
    "    return (cost(b+h) - cost(b)) / h"
   ]
  },
  {
   "cell_type": "code",
   "execution_count": null,
   "metadata": {},
   "outputs": [],
   "source": [
    "num_slope(3), num_slope(5)"
   ]
  },
  {
   "cell_type": "markdown",
   "metadata": {},
   "source": [
    "Here we are finding the slope at a point using the derivation fomula known as power rule. <br>\n",
    "where m is slope <br>\n",
    "$$\\frac{\\partial m}{\\partial t} = (b - 4)^{2}$$\n",
    "$$= 2(b-4)^{1}$$\n",
    "$$= 2(b-4)$$"
   ]
  },
  {
   "cell_type": "code",
   "execution_count": null,
   "metadata": {},
   "outputs": [],
   "source": [
    "def slope(b:int):\n",
    "    \"\"\"\n",
    "    returns slope at point b, using the derivation formula\n",
    "    derivative of (b-4)**2 is 2(b-4), ref: power rule\n",
    "    \"\"\"\n",
    "    return 2 * (b-4)"
   ]
  },
  {
   "cell_type": "code",
   "execution_count": null,
   "metadata": {},
   "outputs": [],
   "source": [
    "slope(3), slope(5)"
   ]
  },
  {
   "cell_type": "code",
   "execution_count": null,
   "metadata": {},
   "outputs": [],
   "source": [
    "b = -5\n",
    "b, slope(b)"
   ]
  },
  {
   "cell_type": "code",
   "execution_count": null,
   "metadata": {},
   "outputs": [],
   "source": [
    "# here we are adjusting the b value based on slope. by adjusting this is a loop we will reach target value, i.e., towards 4.\n",
    "b = b - (.1 * slope(b))\n",
    "b, slope(b)"
   ]
  },
  {
   "cell_type": "code",
   "execution_count": null,
   "metadata": {
    "tags": []
   },
   "outputs": [],
   "source": [
    "# cost_ = cost(b)\n",
    "\n",
    "# # doing like this would fall into infinite loop because checking if\n",
    "# # the cost is zero might not be true.\n",
    "\n",
    "# while cost_ != 0:\n",
    "#     slope_ = slope(b)\n",
    "#     print(\"b {}, slope_ {}, cost {}\".format(b, slope_, cost_))\n",
    "#     cost_ = cost(b)\n",
    "#     b = b - (.1 * slope(b))\n",
    "# print(\"b {}, slope_ {}, cost {}\".format(b, slope_, cost_))"
   ]
  },
  {
   "cell_type": "code",
   "execution_count": null,
   "metadata": {
    "tags": [
     "outputPrepend"
    ]
   },
   "outputs": [],
   "source": [
    "loop_iterations = 5000\n",
    "b = -10\n",
    "learning_rate = 0.1 #keep this smaller to avoid overshooting\n",
    "\n",
    "for index in range(loop_iterations):\n",
    "    cost_ = cost(b)\n",
    "    slope_ = slope(b)\n",
    "    b = b - (learning_rate * slope(b))\n",
    "    if index % 5 == 0:\n",
    "        print(\"index:{index}, b:{b}, slope_:{slope}, cost:{cost}\".format(index=index, cost=cost_, b=b, slope=slope_))"
   ]
  }
 ]
}